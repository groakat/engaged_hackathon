{
 "cells": [
  {
   "cell_type": "markdown",
   "metadata": {},
   "source": [
    "Now in `engage.core.io`"
   ]
  },
  {
   "cell_type": "code",
   "execution_count": 2,
   "metadata": {
    "collapsed": true
   },
   "outputs": [],
   "source": [
    "import engaged.core.AzurePipeline as AP"
   ]
  },
  {
   "cell_type": "code",
   "execution_count": null,
   "metadata": {
    "collapsed": true
   },
   "outputs": [],
   "source": []
  },
  {
   "cell_type": "code",
   "execution_count": 99,
   "metadata": {
    "collapsed": false
   },
   "outputs": [],
   "source": [
    "def import_local_labels(df, meta):\n",
    "    args = meta['import_local_labels']\n",
    "    csv_filename = args['csv_filename']\n",
    "    wav_filename = args['wav_filename']\n",
    "    expected_keys = ['Label', 'Spec_NStep', 'Spec_NWin', \n",
    "                     'Spec_x1', 'Spec_y1', 'Spec_x2', 'Spec_y2',\n",
    "                     'LabelStartTime_Seconds', 'LabelEndTime_Seconds',\n",
    "                     'MinimumFreq_Hz', 'MaximumFreq_Hz']    \n",
    "    \n",
    "    \n",
    "    import pandas as pd\n",
    "    \n",
    "    csv_df = pd.DataFrame.from_csv(csv_filename).dropna()\n",
    "    \n",
    "    labels = []\n",
    "    for i, line in csv_df.iterrows():\n",
    "        d = {}\n",
    "        for k in expected_keys:\n",
    "            try:\n",
    "                d[k] = line[k]\n",
    "            except KeyError:\n",
    "                d[k] = None\n",
    "\n",
    "        labels += [d]\n",
    "        \n",
    "    labelDf = pd.DataFrame({'labels': labels})\n",
    "    meta = pd.concat((meta, labelDf))\n",
    "    \n",
    "    return df, meta\n",
    "    \n",
    "    \n",
    "def import_global_label(df, meta):\n",
    "    args = meta['import_global_label']\n",
    "    csv_filename = args['csv_filename']\n",
    "    wav_filename = args['wav_filename']\n",
    "    \n",
    "    \n",
    "    import pandas as pd\n",
    "        \n",
    "    csv_df = pd.read_csv(csv_filename, \n",
    "                    names=['start_time', 'label', 'None'], \n",
    "                    header=None, index_col=None)\n",
    "    \n",
    "       \n",
    "    \n",
    "    \n",
    "    labelDf = pd.DataFrame({'label': csv_df.ix[wav_filename]['label']},\n",
    "                           index=[0])\n",
    "    meta = pd.concat((meta, labelDf))\n",
    "    \n",
    "    return df, meta\n",
    "    \n",
    "    \n",
    "    "
   ]
  },
  {
   "cell_type": "code",
   "execution_count": 102,
   "metadata": {
    "collapsed": false
   },
   "outputs": [],
   "source": [
    "meta = {'import_local_labels': {'csv_filename': 'example_labels.csv', 'wav_filename': 'HA53AA-13548_20130724_0910.wav'}}\n",
    "\n",
    "meta = pd.DataFrame(meta)\n",
    "x, labels = import_local_labels(None, meta)"
   ]
  },
  {
   "cell_type": "code",
   "execution_count": 103,
   "metadata": {
    "collapsed": false
   },
   "outputs": [],
   "source": [
    "meta = {'import_global_label': {'csv_filename': 'cropped_labels.csv', 'wav_filename': 'CR05EF-13527_20130916_0823_0.wav'}}\n",
    "\n",
    "meta = pd.DataFrame(meta)\n",
    "x, labels = import_global_label(None, meta)"
   ]
  },
  {
   "cell_type": "code",
   "execution_count": null,
   "metadata": {
    "collapsed": true
   },
   "outputs": [],
   "source": []
  }
 ],
 "metadata": {
  "kernelspec": {
   "display_name": "Python 2",
   "language": "python",
   "name": "python2"
  },
  "language_info": {
   "codemirror_mode": {
    "name": "ipython",
    "version": 2
   },
   "file_extension": ".py",
   "mimetype": "text/x-python",
   "name": "python",
   "nbconvert_exporter": "python",
   "pygments_lexer": "ipython2",
   "version": "2.7.10"
  }
 },
 "nbformat": 4,
 "nbformat_minor": 0
}
