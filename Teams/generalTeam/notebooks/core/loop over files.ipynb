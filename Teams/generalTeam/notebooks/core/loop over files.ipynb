{
 "cells": [
  {
   "cell_type": "code",
   "execution_count": 1,
   "metadata": {
    "collapsed": true
   },
   "outputs": [],
   "source": [
    "import engaged.core.AzurePipeline as AP"
   ]
  },
  {
   "cell_type": "code",
   "execution_count": 2,
   "metadata": {
    "collapsed": true
   },
   "outputs": [],
   "source": [
    "import glob\n",
    "def loop(folder, pattern, meta, func_key, func_list):\n",
    "    \"\"\"\n",
    "    folder (string):\n",
    "        folder with input files\n",
    "    pattern (string):\n",
    "        glob pattern\n",
    "    meta (dict):\n",
    "        meta data to initialize AzurePipeline\n",
    "    func_key (string):\n",
    "        name of function with 'in_filename' that is changed dynamically\n",
    "        by looping over the files in `folder`\n",
    "    func_list (list(func_ptr)):\n",
    "        functions to be applied to the AzurePipeline\n",
    "    \n",
    "    \"\"\"\n",
    "    files = glob.glob(folder + '/' + pattern)\n",
    "    \n",
    "    for f in files:\n",
    "        tmp_meta = meta\n",
    "        tmp_meta[func_key]['in_filename'] = f\n",
    "        \n",
    "        ap = AP.AzurePipeline(tmp_meta)\n",
    "        \n",
    "        print tmp_meta\n",
    "        \n",
    "        for func in func_list:\n",
    "            ap.apply(func)\n",
    "        "
   ]
  },
  {
   "cell_type": "code",
   "execution_count": 4,
   "metadata": {
    "collapsed": false
   },
   "outputs": [
    {
     "name": "stdout",
     "output_type": "stream",
     "text": [
      "{'logger': {'keys': \"[['read_wav', 'in_filename'], ['save_out', 'out_filename']]\", 'out_folder': '.', 'filename': 'log.csv'}, 'save': {'out_folder': '.'}, 'read_wav': {'in_filename': '/Users/peter/Documents/phd/projects/azure/engaged_data/features/day.wav'}}\n",
      "{'logger': {'keys': \"[['read_wav', 'in_filename'], ['save_out', 'out_filename']]\", 'out_folder': '.', 'filename': 'log.csv'}, 'save': {'out_folder': '.'}, 'read_wav': {'in_filename': '/Users/peter/Documents/phd/projects/azure/engaged_data/features/night.wav'}}\n"
     ]
    }
   ],
   "source": [
    "import engaged.core.io as io\n",
    "import engaged.features.frequency as Freq\n",
    "\n",
    "\n",
    "meta = {'read_wav': {'in_filename': '../../../engaged_data/features/night.wav'},\n",
    "        'save': {'out_folder': '.'},\n",
    "        'logger': {'keys': \"[['read_wav', 'in_filename'], ['save_out', 'out_filename']]\",\n",
    "                   'out_folder': '.',\n",
    "                   'filename': 'log.csv'}}\n",
    "\n",
    "loop('/Users/peter/Documents/phd/projects/azure/engaged_data/features/',\n",
    "     '*.wav', \n",
    "     meta, \n",
    "     'read_wav', \n",
    "     [io.read_wav, Freq.simple_spectogram, io.save, io.logger])"
   ]
  }
 ],
 "metadata": {
  "kernelspec": {
   "display_name": "Python 2",
   "language": "python",
   "name": "python2"
  },
  "language_info": {
   "codemirror_mode": {
    "name": "ipython",
    "version": 2
   },
   "file_extension": ".py",
   "mimetype": "text/x-python",
   "name": "python",
   "nbconvert_exporter": "python",
   "pygments_lexer": "ipython2",
   "version": "2.7.10"
  }
 },
 "nbformat": 4,
 "nbformat_minor": 0
}
