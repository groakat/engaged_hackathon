{
 "cells": [
  {
   "cell_type": "code",
   "execution_count": 12,
   "metadata": {
    "collapsed": true
   },
   "outputs": [],
   "source": [
    "from engaged.core import AzurePipeline as AP"
   ]
  },
  {
   "cell_type": "code",
   "execution_count": 16,
   "metadata": {
    "collapsed": true
   },
   "outputs": [],
   "source": [
    "def read_wav(df, meta):\n",
    "    args = meta['read_wav']\n",
    "    \n",
    "    print \"read_wav\"\n",
    "    import scipy.io.wavfile\n",
    "    import pandas as pd\n",
    "    \n",
    "    sound = scipy.io.wavfile.read(args['in_filename'])\n",
    "    df = pd.DataFrame(sound[1])\n",
    "    return df, meta\n",
    "    \n",
    "def test2(df, meta):\n",
    "#     args = meta['test2']\n",
    "    \n",
    "    print \"test2\"\n",
    "    df /= 2\n",
    "    return df, meta\n",
    "    \n",
    "def save(df, meta):\n",
    "    args = meta['save']\n",
    "    \n",
    "    print \"save\"\n",
    "    \n",
    "    df.to_csv(args['out_filename'])\n",
    "    \n",
    "    return df, meta\n",
    "    \n",
    "    "
   ]
  },
  {
   "cell_type": "code",
   "execution_count": 17,
   "metadata": {
    "collapsed": false
   },
   "outputs": [
    {
     "name": "stdout",
     "output_type": "stream",
     "text": [
      "test2\n",
      "save\n"
     ]
    }
   ],
   "source": [
    "meta = {'read_wav': {'in_filename': '../../../engaged_data/features/night.wav'},\n",
    "        'save': {'out_filename': 'night.csv'}}\n",
    "\n",
    "ap = AP.AzurePipeline(meta)\n",
    "\n",
    "ap.apply(read_wav)\n",
    "ap.apply(test2)\n",
    "ap.apply(save)"
   ]
  },
  {
   "cell_type": "code",
   "execution_count": null,
   "metadata": {
    "collapsed": true
   },
   "outputs": [],
   "source": []
  }
 ],
 "metadata": {
  "kernelspec": {
   "display_name": "Python 2",
   "language": "python",
   "name": "python2"
  },
  "language_info": {
   "codemirror_mode": {
    "name": "ipython",
    "version": 2
   },
   "file_extension": ".py",
   "mimetype": "text/x-python",
   "name": "python",
   "nbconvert_exporter": "python",
   "pygments_lexer": "ipython2",
   "version": "2.7.10"
  }
 },
 "nbformat": 4,
 "nbformat_minor": 0
}
